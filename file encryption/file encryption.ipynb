{
 "cells": [
  {
   "cell_type": "code",
   "execution_count": null,
   "metadata": {},
   "outputs": [
    {
     "name": "stdout",
     "output_type": "stream",
     "text": [
      "enter the password : 123\n",
      "1.encryption,  2.decryption, 3 .exit 2\n",
      "enter the file path : C:\\Users\\jv renganathan\\bootcamp\\Day6\\encrypt\n",
      "enter the file path : C:\\Users\\jv renganathan\\bootcamp\\Day6\\encrypt.txt\n"
     ]
    }
   ],
   "source": [
    "import pyAesCrypt as pa\n",
    "password = input(\"enter the password : \")\n",
    "bufferSize = 64 * 1024\n",
    "choice = int(input(\"1.encryption,  2.decryption, 3 .exit \"))\n",
    "while(choice != 3):\n",
    "    if(choice == 1):\n",
    "        file1 = input(\"enter the file path : \")\n",
    "        pa.encryptFile(file1,\"data.txt.aes\",password,bufferSize)\n",
    "        print(\"encryption done\")\n",
    "        choice = int(input(\"1.encryption,  2.decryption, 3 .exit \"))\n",
    "    if(choice == 2):\n",
    "        file1 = input(\"enter the file path : \")\n",
    "        pa.decryptFile(\"data.txt.aes\",file1,password,bufferSize)\n",
    "        "
   ]
  }
 ],
 "metadata": {
  "kernelspec": {
   "display_name": "Python 3",
   "language": "python",
   "name": "python3"
  },
  "language_info": {
   "codemirror_mode": {
    "name": "ipython",
    "version": 3
   },
   "file_extension": ".py",
   "mimetype": "text/x-python",
   "name": "python",
   "nbconvert_exporter": "python",
   "pygments_lexer": "ipython3",
   "version": "3.7.1"
  }
 },
 "nbformat": 4,
 "nbformat_minor": 2
}
