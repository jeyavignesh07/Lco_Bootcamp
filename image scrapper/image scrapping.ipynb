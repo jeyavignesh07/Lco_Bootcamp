{
 "cells": [
  {
   "cell_type": "code",
   "execution_count": null,
   "metadata": {},
   "outputs": [],
   "source": [
    "import requests\n",
    "from bs4 import *\n",
    "import matplotlib.pyplot as plt\n",
    "from PIL import Image\n",
    "link = input(\"enter the link : \")\n",
    "req = requests.get(link)\n",
    "soup = BeautifulSoup(req.text,\"lxml\")\n",
    "imgs = soup.find_all('img')\n",
    "k = 1\n",
    "for i in imgs:\n",
    "    try:\n",
    "        url = i['src']\n",
    "        print(\"image link :\",k)\n",
    "        print(url)\n",
    "        res = requests.get(url,stream=True)\n",
    "        img = Image.open(res.raw)\n",
    "        #plt.imshow(img)\n",
    "        #plt.close()\n",
    "        img.save(r'C:\\Users\\jv renganathan\\bootcamp\\Day4\\immages\\{}.jpg'.format(str(k)))\n",
    "    except:\n",
    "        KeyError\n",
    "    k += 1"
   ]
  },
  {
   "cell_type": "raw",
   "metadata": {},
   "source": []
  }
 ],
 "metadata": {
  "kernelspec": {
   "display_name": "Python 3",
   "language": "python",
   "name": "python3"
  },
  "language_info": {
   "codemirror_mode": {
    "name": "ipython",
    "version": 3
   },
   "file_extension": ".py",
   "mimetype": "text/x-python",
   "name": "python",
   "nbconvert_exporter": "python",
   "pygments_lexer": "ipython3",
   "version": "3.7.1"
  }
 },
 "nbformat": 4,
 "nbformat_minor": 2
}
