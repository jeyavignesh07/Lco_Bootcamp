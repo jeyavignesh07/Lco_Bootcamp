{
 "cells": [
  {
   "cell_type": "code",
   "execution_count": null,
   "metadata": {},
   "outputs": [],
   "source": [
    "import random\n",
    "import json\n",
    "from difflib import get_close_matches\n",
    "\n",
    "collection = json.load(open(\"data.json\"))\n",
    "\n",
    "def lookup(word):\n",
    "    i = 0\n",
    "    for key in collection:\n",
    "        #print(key)\n",
    "        if key == word:\n",
    "            f = random.choice(collection[key])\n",
    "            f = ''.join(f)\n",
    "            print(f)\n",
    "            break\n",
    "        i += 1\n",
    "    if i == len(collection):\n",
    "        misspl = get_close_matches(word, collection.keys())\n",
    "        print(\"is this what you are looking for \",misspl)\n",
    "        yn = input(\"yes or no\").lower()\n",
    "        if (yn == \"yes\"):\n",
    "            reent = input(\"re-enter the word : \")\n",
    "            for key in misspl:\n",
    "                if key == reent:\n",
    "                    h = random.choice(collection[key])\n",
    "                    h = ''.join(h)\n",
    "                    print(h)\n",
    "                    break\n",
    "        else:\n",
    "            print(\"no word found,thank u for using us!!!!!!!!!\")\n",
    "        \n",
    "a = input(\"enter the word : \").lower()\n",
    "lookup(a)"
   ]
  }
 ],
 "metadata": {
  "kernelspec": {
   "display_name": "Python 3",
   "language": "python",
   "name": "python3"
  },
  "language_info": {
   "codemirror_mode": {
    "name": "ipython",
    "version": 3
   },
   "file_extension": ".py",
   "mimetype": "text/x-python",
   "name": "python",
   "nbconvert_exporter": "python",
   "pygments_lexer": "ipython3",
   "version": "3.7.1"
  }
 },
 "nbformat": 4,
 "nbformat_minor": 2
}
