{
 "cells": [
  {
   "cell_type": "code",
   "execution_count": null,
   "metadata": {},
   "outputs": [
    {
     "name": "stdout",
     "output_type": "stream",
     "text": [
      "List Trainer: [####################] 100%\n",
      "List Trainer: [####################] 100%\n",
      "List Trainer: [####################] 100%\n",
      "List Trainer: [####################] 100%\n",
      "List Trainer: [####################] 100%\n",
      "List Trainer: [####################] 100%\n",
      "List Trainer: [####################] 100%\n",
      "List Trainer: [####################] 100%\n",
      "List Trainer: [####################] 100%\n",
      "List Trainer: [####################] 100%\n",
      "List Trainer: [####################] 100%\n",
      "List Trainer: [####################] 100%\n",
      "List Trainer: [####################] 100%\n",
      "List Trainer: [####################] 100%\n",
      "List Trainer: [####################] 100%\n",
      "List Trainer: [####################] 100%\n",
      "List Trainer: [####################] 100%\n",
      "List Trainer: [####################] 100%\n",
      "List Trainer: [####################] 100%\n",
      "you : hi\n",
      "ChatBot : - How are you doing?\n",
      "you : good\n",
      "ChatBot : - - Hi, How is it going?\n",
      "you : very fine\n",
      "ChatBot : - - Hi, How is it going?\n",
      "you : who made you?\n",
      "ChatBot : - I am just an artificial intelligence.\n",
      "you : In which language are you written?\n",
      "ChatBot : - Python.\n",
      "you : are you a scientist?\n",
      "ChatBot : - In all probability, I am not. I'm not that sophisticated.\n",
      "you : what is artificial intelligence?\n",
      "ChatBot : conversations:\n",
      "you : what is ai?\n",
      "ChatBot : - Artificial Intelligence is the branch of engineering and science devoted to constructing machines that think.\n"
     ]
    }
   ],
   "source": [
    "from chatterbot import ChatBot\n",
    "from chatterbot.trainers import ListTrainer\n",
    "import os \n",
    "\n",
    "bot = ChatBot('Bot')\n",
    "bot.set_trainer(ListTrainer)\n",
    "for files in os.listdir(r'C:\\Users\\jv renganathan\\py projects\\chat bot with chatterbot\\chatterbot-corpus-master\\chatterbot_corpus\\data\\english/'):\n",
    "    data = open(r'C:\\Users\\jv renganathan\\py projects\\chat bot with chatterbot\\chatterbot-corpus-master\\chatterbot_corpus\\data\\english/' + files,'r').readlines()\n",
    "    bot.train(data)\n",
    "while(True):\n",
    "    message = input('you : ')\n",
    "    if message.strip() != 'Bye':\n",
    "        reply = bot.get_response(message)\n",
    "        print('ChatBot :',reply)\n",
    "    if message.strip() == 'Bye':\n",
    "        print('ChatBot : Bye')\n",
    "        break\n",
    "        "
   ]
  },
  {
   "cell_type": "code",
   "execution_count": null,
   "metadata": {},
   "outputs": [],
   "source": []
  }
 ],
 "metadata": {
  "kernelspec": {
   "display_name": "Python 3",
   "language": "python",
   "name": "python3"
  },
  "language_info": {
   "codemirror_mode": {
    "name": "ipython",
    "version": 3
   },
   "file_extension": ".py",
   "mimetype": "text/x-python",
   "name": "python",
   "nbconvert_exporter": "python",
   "pygments_lexer": "ipython3",
   "version": "3.7.1"
  }
 },
 "nbformat": 4,
 "nbformat_minor": 2
}
