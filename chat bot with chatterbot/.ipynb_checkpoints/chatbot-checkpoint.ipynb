{
 "cells": [
  {
   "cell_type": "code",
   "execution_count": null,
   "metadata": {},
   "outputs": [
    {
     "name": "stdout",
     "output_type": "stream",
     "text": [
      "List Trainer: [####################] 100%\n",
      "List Trainer: [####################] 100%\n",
      "List Trainer: [####################] 100%\n",
      "List Trainer: [####################] 100%\n",
      "List Trainer: [####################] 100%\n",
      "List Trainer: [####################] 100%\n",
      "List Trainer: [####################] 100%\n",
      "List Trainer: [####################] 100%\n",
      "List Trainer: [####################] 100%\n",
      "List Trainer: [####################] 100%\n",
      "List Trainer: [####################] 100%\n",
      "List Trainer: [####################] 100%\n",
      "List Trainer: [####################] 100%\n",
      "List Trainer: [####################] 100%\n",
      "List Trainer: [####################] 100%\n",
      "List Trainer: [####################] 100%\n",
      "List Trainer: [####################] 100%\n",
      "List Trainer: [####################] 100%\n",
      "List Trainer: [####################] 100%\n",
      "you : hello\n",
      "ChatBot : - - Greetings!\n",
      "you : how are you\n",
      "ChatBot : - I am doing well.\n",
      "you : what is your name\n",
      "ChatBot : - I am still young by your standards.\n",
      "you : what is 1+2?\n",
      "ChatBot : - Artificial Intelligence is the branch of engineering and science devoted to constructing machines that think.\n",
      "you : are you man?\n",
      "ChatBot : - I do not.\n",
      "you : who are you?\n",
      "ChatBot : what is 1+2?\n",
      "you : 3\n",
      "ChatBot : - - The Space Race was a 20th-century competition between what two Cold War rivals,\n"
     ]
    }
   ],
   "source": [
    "from chatterbot import ChatBot\n",
    "from chatterbot.trainers import ListTrainer\n",
    "import os \n",
    "\n",
    "bot = ChatBot('Bot')\n",
    "bot.set_trainer(ListTrainer)\n",
    "for files in os.listdir(r'C:\\Users\\jv renganathan\\py projects\\chat bot with chatterbot\\chatterbot-corpus-master\\chatterbot_corpus\\data\\english/'):\n",
    "    data = open(r'C:\\Users\\jv renganathan\\py projects\\chat bot with chatterbot\\chatterbot-corpus-master\\chatterbot_corpus\\data\\english/' + files,'r').readlines()\n",
    "    bot.train(data)\n",
    "while(True):\n",
    "    message = input('you : ')\n",
    "    if message.strip() != 'Bye':\n",
    "        reply = bot.get_response(message)\n",
    "        print('ChatBot :',reply)\n",
    "    if message.strip() == 'Bye':\n",
    "        print('ChatBot : Bye')\n",
    "        break\n",
    "        "
   ]
  }
 ],
 "metadata": {
  "kernelspec": {
   "display_name": "Python 3",
   "language": "python",
   "name": "python3"
  },
  "language_info": {
   "codemirror_mode": {
    "name": "ipython",
    "version": 3
   },
   "file_extension": ".py",
   "mimetype": "text/x-python",
   "name": "python",
   "nbconvert_exporter": "python",
   "pygments_lexer": "ipython3",
   "version": "3.7.1"
  }
 },
 "nbformat": 4,
 "nbformat_minor": 2
}
