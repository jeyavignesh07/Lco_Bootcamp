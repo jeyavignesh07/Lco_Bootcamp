{
 "cells": [
  {
   "cell_type": "code",
   "execution_count": 31,
   "metadata": {},
   "outputs": [],
   "source": [
    "import bs4\n",
    "import requests\n",
    "import pandas as pd\n",
    "from matplotlib import pyplot  as plt\n",
    "res = requests.get(\"https://www.flipkart.com/search?q=mobiles&otracker=search&otracker1=search&marketplace=FLIPKART&as-show=off&as=off\")\n",
    "soup = bs4.BeautifulSoup(res.text,\"lxml\")\n",
    "name = soup.select(\"._3wU53n\")\n",
    "price = soup.select(\"._1vC4OE\")\n",
    "detail = pd.DataFrame(columns = (\"Name\", \"Price\"))\n",
    "\n",
    "l = 0\n",
    "for i, j in zip(name, price):\n",
    "    detail.loc[l] = i.text, j.text\n",
    "    l += 1\n"
   ]
  },
  {
   "cell_type": "code",
   "execution_count": 32,
   "metadata": {},
   "outputs": [],
   "source": [
    "detail.to_excel('flipkart.xlsx')\n",
    "detail.to_csv('flipkart.csv')"
   ]
  },
  {
   "cell_type": "code",
   "execution_count": null,
   "metadata": {},
   "outputs": [],
   "source": []
  }
 ],
 "metadata": {
  "kernelspec": {
   "display_name": "Python 3",
   "language": "python",
   "name": "python3"
  },
  "language_info": {
   "codemirror_mode": {
    "name": "ipython",
    "version": 3
   },
   "file_extension": ".py",
   "mimetype": "text/x-python",
   "name": "python",
   "nbconvert_exporter": "python",
   "pygments_lexer": "ipython3",
   "version": "3.7.1"
  }
 },
 "nbformat": 4,
 "nbformat_minor": 2
}
