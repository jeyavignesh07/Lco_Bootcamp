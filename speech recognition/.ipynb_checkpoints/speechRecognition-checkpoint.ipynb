{
 "cells": [
  {
   "cell_type": "code",
   "execution_count": 44,
   "metadata": {},
   "outputs": [
    {
     "name": "stdout",
     "output_type": "stream",
     "text": [
      "Please build and install the PortAudio Python bindings first.\n"
     ]
    },
    {
     "ename": "SystemExit",
     "evalue": "-1",
     "output_type": "error",
     "traceback": [
      "An exception has occurred, use %tb to see the full traceback.\n",
      "\u001b[1;31mSystemExit\u001b[0m\u001b[1;31m:\u001b[0m -1\n"
     ]
    }
   ],
   "source": [
    "import speech_recognition as sr\n",
    "from gtts import gTTS\n",
    "#import pyaudio\n",
    "#import os\n",
    "for i in range(1,10):\n",
    "    r = sr.Recognizer()\n",
    "    with sr.Microphone() as source:\n",
    "        print(\"start speaking\")\n",
    "        print(\"Listening...................\")\n",
    "        audio = r.listen(source)\n",
    "    try:\n",
    "        if r.recognize_google(audio) == \"who are you\" :\n",
    "            print(\"you told : \" + r.recognize_google(audio))\n",
    "            tts = gTTS(text=\"i am machine\",lang='en')\n",
    "            tts.save(\"voice.mp3\")\n",
    "            #os.system(\"start voice.mp3\")\n",
    "            print(\"jim said : \" + \"i am machine\")\n",
    "    except sr.UnknownValueError:\n",
    "        print(\"could not understand the audio\")\n",
    "    except sr.RequestError as e:\n",
    "        print(\"sorry try again\")"
   ]
  },
  {
   "cell_type": "code",
   "execution_count": 2,
   "metadata": {},
   "outputs": [
    {
     "name": "stdout",
     "output_type": "stream",
     "text": [
      "Please build and install the PortAudio Python bindings first.\n"
     ]
    },
    {
     "ename": "SystemExit",
     "evalue": "-1",
     "output_type": "error",
     "traceback": [
      "An exception has occurred, use %tb to see the full traceback.\n",
      "\u001b[1;31mSystemExit\u001b[0m\u001b[1;31m:\u001b[0m -1\n"
     ]
    },
    {
     "name": "stderr",
     "output_type": "stream",
     "text": [
      "C:\\Users\\jv renganathan\\Anaconda3\\lib\\site-packages\\IPython\\core\\interactiveshell.py:3275: UserWarning: To exit: use 'exit', 'quit', or Ctrl-D.\n",
      "  warn(\"To exit: use 'exit', 'quit', or Ctrl-D.\", stacklevel=1)\n"
     ]
    }
   ],
   "source": [
    "import pyaudio\n",
    "import wave\n",
    "def play_audio(filename):\n",
    "    chunk = 1024\n",
    "    wf = wave.open(filename,'rb')\n",
    "    pa=pyaudio.PyAudio()\n",
    "\n",
    "    stream = pa.open(\n",
    "        format=pa.get_format_from_width(wf.getsampwidth()),\n",
    "        channels = wf.getnchannels(),\n",
    "        rate = wf.getframerate(),\n",
    "        output=True\n",
    "    )\n",
    "    data = wf.readframes(chunk)\n",
    "\n",
    "    while data:\n",
    "        stream.write(data)\n",
    "        data = wf.readframes(chunk)\n",
    "    \n",
    "    stream.close()\n",
    "    pa.terminate()\n",
    "\n",
    "\n",
    "import speech_recognition as sp\n",
    "r=sp.Recognizer()\n",
    "\n",
    "def initspeech():\n",
    "    print('Listening......')\n",
    "    \n",
    "    play_audio(r'C:\\Users\\jv renganathan\\Desktop\\justified.wav')\n",
    "    \n",
    "    with sp.Microphone() as source:\n",
    "        print('Say Something...')\n",
    "        audio = r.listen(source)\n",
    "        \n",
    "    play_audio(r'C:\\Users\\jv renganathan\\Desktop\\justified.wav')\n",
    "    \n",
    "    text = ''\n",
    "    \n",
    "    try:\n",
    "        text = r.recognize_google(audio)\n",
    "    except:\n",
    "        print('Try Next Time')\n",
    "        \n",
    "    print(text)\n",
    "\n",
    "    \n",
    "initspeech()"
   ]
  },
  {
   "cell_type": "code",
   "execution_count": null,
   "metadata": {},
   "outputs": [],
   "source": []
  }
 ],
 "metadata": {
  "kernelspec": {
   "display_name": "Python 3",
   "language": "python",
   "name": "python3"
  },
  "language_info": {
   "codemirror_mode": {
    "name": "ipython",
    "version": 3
   },
   "file_extension": ".py",
   "mimetype": "text/x-python",
   "name": "python",
   "nbconvert_exporter": "python",
   "pygments_lexer": "ipython3",
   "version": "3.7.1"
  }
 },
 "nbformat": 4,
 "nbformat_minor": 2
}
